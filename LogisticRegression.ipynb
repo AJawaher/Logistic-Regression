{
  "nbformat": 4,
  "nbformat_minor": 0,
  "metadata": {
    "colab": {
      "name": "Untitled4.ipynb",
      "provenance": [],
      "collapsed_sections": []
    },
    "kernelspec": {
      "name": "python3",
      "display_name": "Python 3"
    },
    "language_info": {
      "name": "python"
    }
  },
  "cells": [
    {
      "cell_type": "code",
      "execution_count": 5,
      "metadata": {
        "colab": {
          "base_uri": "https://localhost:8080/"
        },
        "id": "a_38x3fj0CIB",
        "outputId": "cafd8cc6-630f-4fc4-f4fa-44028dde122c"
      },
      "outputs": [
        {
          "output_type": "stream",
          "name": "stdout",
          "text": [
            "PassengerId      0\n",
            "Survived         0\n",
            "Pclass           0\n",
            "Name             0\n",
            "Sex              0\n",
            "Age            177\n",
            "SibSp            0\n",
            "Parch            0\n",
            "Ticket           0\n",
            "Fare             0\n",
            "Cabin          687\n",
            "Embarked         2\n",
            "dtype: int64\n",
            "PassengerId    0\n",
            "Survived       0\n",
            "Pclass         0\n",
            "Name           0\n",
            "Sex            0\n",
            "Age            0\n",
            "SibSp          0\n",
            "Parch          0\n",
            "Ticket         0\n",
            "Fare           0\n",
            "Cabin          0\n",
            "Embarked       0\n",
            "dtype: int64\n",
            "   PassengerId Survived  Pclass                                         Name  \\\n",
            "0          343       No       2                   Collander, Mr. Erik Gustaf   \n",
            "1           76       No       3                      Moen, Mr. Sigurd Hansen   \n",
            "2          641       No       3                       Jensen, Mr. Hans Peder   \n",
            "3          568       No       3  Palsson, Mrs. Nils (Alma Cornelia Berglund)   \n",
            "4          672       No       1                       Davidson, Mr. Thornton   \n",
            "\n",
            "      Sex   Age  SibSp  Parch      Ticket     Fare  Cabin Embarked  \n",
            "0    male  28.0      0      0      248740  13.0000     G6        S  \n",
            "1    male  25.0      0      0      348123   7.6500  F G73        S  \n",
            "2    male  20.0      0      0      350050   7.8542     G6        S  \n",
            "3  female  29.0      0      4      349909  21.0750     G6        S  \n",
            "4    male  31.0      1      0  F.C. 12750  52.0000    B71        S  \n"
          ]
        }
      ],
      "source": [
        "import pandas as pd\n",
        "import numpy as np\n",
        "import seaborn as sns\n",
        "import matplotlib.pyplot as plt\n",
        "\n",
        "df = pd.read_csv(\"/content/titanic-passengers_1.csv\",sep=';')\n",
        "# print(df.head())\n",
        "print(df.isnull().sum())\n",
        "df['Age'].fillna(value=df['Age'].mean(), inplace=True)\n",
        "\n",
        "# print(df['Cabin'].value_counts())\n",
        "# print(df['Embarked'].value_counts())\n",
        "\n",
        "df['Cabin'].fillna(\"G6\", inplace=True)\n",
        "df['Embarked'].fillna(\"S\", inplace=True)\n",
        "print(df.isnull().sum())\n",
        "print(df.head())"
      ]
    },
    {
      "cell_type": "code",
      "source": [
        "def plot_correlation_map( df ):\n",
        "\n",
        "    corr = df.corr()\n",
        "\n",
        "    s , ax = plt.subplots( figsize =( 12 , 10 ) )\n",
        "\n",
        "    cmap = sns.diverging_palette( 220 , 10 , as_cmap = True )\n",
        "\n",
        "    s = sns.heatmap(\n",
        "\n",
        "        corr, \n",
        "\n",
        "        cmap = cmap,\n",
        "\n",
        "        square=True, \n",
        "\n",
        "        cbar_kws={ 'shrink' : .9 }, \n",
        "\n",
        "        ax=ax, \n",
        "\n",
        "        annot = True, \n",
        "\n",
        "        annot_kws = { 'fontsize' : 12 }\n",
        "\n",
        "        )\n",
        "\n",
        "df_one = pd.get_dummies(df[\"Sex\"]) \n",
        "print(df_one.head())\n",
        "df['female'] = df_one['female']\n",
        "df['male'] = df_one['male']\n",
        "print(df.head())\n"
      ],
      "metadata": {
        "colab": {
          "base_uri": "https://localhost:8080/"
        },
        "id": "bvsDsfUJ0itf",
        "outputId": "6717c7da-968c-4001-8b80-88e30f488559"
      },
      "execution_count": 13,
      "outputs": [
        {
          "output_type": "stream",
          "name": "stdout",
          "text": [
            "   female  male\n",
            "0       0     1\n",
            "1       0     1\n",
            "2       0     1\n",
            "3       1     0\n",
            "4       0     1\n",
            "   PassengerId Survived  Pclass                                         Name  \\\n",
            "0          343       No       2                   Collander, Mr. Erik Gustaf   \n",
            "1           76       No       3                      Moen, Mr. Sigurd Hansen   \n",
            "2          641       No       3                       Jensen, Mr. Hans Peder   \n",
            "3          568       No       3  Palsson, Mrs. Nils (Alma Cornelia Berglund)   \n",
            "4          672       No       1                       Davidson, Mr. Thornton   \n",
            "\n",
            "      Sex   Age  SibSp  Parch      Ticket     Fare  Cabin Embarked  female  \\\n",
            "0    male  28.0      0      0      248740  13.0000     G6        S       0   \n",
            "1    male  25.0      0      0      348123   7.6500  F G73        S       0   \n",
            "2    male  20.0      0      0      350050   7.8542     G6        S       0   \n",
            "3  female  29.0      0      4      349909  21.0750     G6        S       1   \n",
            "4    male  31.0      1      0  F.C. 12750  52.0000    B71        S       0   \n",
            "\n",
            "   male  \n",
            "0     1  \n",
            "1     1  \n",
            "2     1  \n",
            "3     0  \n",
            "4     1  \n"
          ]
        }
      ]
    },
    {
      "cell_type": "code",
      "source": [
        "df\n",
        "g = sns.FacetGrid(df, col=\"Title\", row=\"Sex\")\n",
        "g.map_dataframe(sns.histplot, x=\"Sex\", binwidth=2, binrange=(0, 1))"
      ],
      "metadata": {
        "colab": {
          "base_uri": "https://localhost:8080/",
          "height": 381
        },
        "id": "rCuLVfOX5msk",
        "outputId": "219ef486-4781-4581-969a-cac0b712cc23"
      },
      "execution_count": 3,
      "outputs": [
        {
          "output_type": "execute_result",
          "data": {
            "text/plain": [
              "<seaborn.axisgrid.FacetGrid at 0x7f4f2eb06e50>"
            ]
          },
          "metadata": {},
          "execution_count": 3
        },
        {
          "output_type": "display_data",
          "data": {
            "text/plain": [
              "<Figure size 1080x432 with 10 Axes>"
            ],
            "image/png": "[encoded data removed]"
          },
          "metadata": {
            "needs_background": "light"
          }
        }
      ]
    },
    {
      "cell_type": "code",
      "source": [
        "#import relevant libraries\n",
        "from sklearn.model_selection import train_test_split\n",
        "from sklearn.linear_model import LogisticRegression\n",
        "from sklearn import metrics\n",
        "from sklearn.metrics import classification_report\n",
        "\n",
        "#features extraction\n",
        "\n",
        "\n",
        "x = df[['Age','Fare', 'female', 'male']]\n",
        "y = df['Survived']\n",
        "\n",
        "x_train,x_test,y_train,y_test = train_test_split(x,y,test_size=0.25,random_state=0)  #splitting data with test size of 25%\n",
        "\n",
        "logreg = LogisticRegression()   #build our logistic model\n",
        "logreg.fit(x_train, y_train)  #fitting training data\n",
        "y_pred  = logreg.predict(x_test)    #testing model’s performance\n",
        "print(\"Accuracy={:.2f}\".format(logreg.score(x_test, y_test)))\n",
        "\n",
        "confusion_matrix = pd.crosstab(y_test, y_pred, rownames=['Actual'], colnames=['Predicted'])\n",
        "sns.heatmap(confusion_matrix, annot=True)\n",
        "\n",
        "print(classification_report(y_test,y_pred))"
      ],
      "metadata": {
        "colab": {
          "base_uri": "https://localhost:8080/",
          "height": 449
        },
        "id": "P0Gn8FPt6fKP",
        "outputId": "84cea6e5-fddd-48cc-bbf4-6587ea399a62"
      },
      "execution_count": 21,
      "outputs": [
        {
          "output_type": "stream",
          "name": "stdout",
          "text": [
            "Accuracy=0.82\n",
            "              precision    recall  f1-score   support\n",
            "\n",
            "          No       0.85      0.88      0.86       144\n",
            "         Yes       0.77      0.71      0.74        79\n",
            "\n",
            "    accuracy                           0.82       223\n",
            "   macro avg       0.81      0.80      0.80       223\n",
            "weighted avg       0.82      0.82      0.82       223\n",
            "\n"
          ]
        },
        {
          "output_type": "display_data",
          "data": {
            "text/plain": [
              "<Figure size 432x288 with 2 Axes>"
            ],
            "image/png": "[encoded data removed]"
          },
          "metadata": {
            "needs_background": "light"
          }
        }
      ]
    },
    {
      "cell_type": "code",
      "source": [
        "# roc curve and auc\n",
        "from sklearn.datasets import make_classification\n",
        "from sklearn.linear_model import LogisticRegression\n",
        "from sklearn.model_selection import train_test_split\n",
        "from sklearn.metrics import roc_curve\n",
        "from sklearn.metrics import roc_auc_score\n",
        "from matplotlib import pyplot\n",
        "# generate 2 class dataset\n",
        "df_2 = pd.get_dummies(df[\"Survived\"]) \n",
        "print(df_one.head())\n",
        "df['Yes'] = df_2['Yes']\n",
        "df['No'] = df_2['No']\n",
        "\n",
        "x = df[['Age','Fare', 'female', 'male']]\n",
        "y = df['Yes']\n",
        "\n",
        "# split into train/test sets\n",
        "trainX, testX, trainy, testy = train_test_split(x, y, test_size=0.25, random_state=2)\n",
        "# generate a no skill prediction (majority class)\n",
        "ns_probs = [0 for _ in range(len(testy))]\n",
        "# fit a model\n",
        "model = LogisticRegression(solver='lbfgs')\n",
        "model.fit(trainX, trainy)\n",
        "# predict probabilities\n",
        "lr_probs = model.predict_proba(testX)\n",
        "# keep probabilities for the positive outcome only\n",
        "lr_probs = lr_probs[:, 1]\n",
        "# calculate scores\n",
        "ns_auc = roc_auc_score(testy, ns_probs)\n",
        "lr_auc = roc_auc_score(testy, lr_probs)\n",
        "# summarize scores\n",
        "print('No Skill: ROC AUC=%.3f' % (ns_auc))\n",
        "print('Logistic: ROC AUC=%.3f' % (lr_auc))\n",
        "# calculate roc curves\n",
        "ns_fpr, ns_tpr, _ = roc_curve(testy, ns_probs)\n",
        "lr_fpr, lr_tpr, _ = roc_curve(testy, lr_probs)\n",
        "# plot the roc curve for the model\n",
        "pyplot.plot(ns_fpr, ns_tpr, linestyle='--', label='No Skill')\n",
        "pyplot.plot(lr_fpr, lr_tpr, marker='.', label='Logistic')\n",
        "# axis labels\n",
        "pyplot.xlabel('False Positive Rate')\n",
        "pyplot.ylabel('True Positive Rate')\n",
        "# show the legend\n",
        "pyplot.legend()\n",
        "# show the plot\n",
        "pyplot.show()"
      ],
      "metadata": {
        "colab": {
          "base_uri": "https://localhost:8080/",
          "height": 415
        },
        "id": "tlXFoBcD_n_n",
        "outputId": "ee71db10-eae8-43ed-eaac-7e256c4ca50f"
      },
      "execution_count": 27,
      "outputs": [
        {
          "output_type": "stream",
          "name": "stdout",
          "text": [
            "   female  male\n",
            "0       0     1\n",
            "1       0     1\n",
            "2       0     1\n",
            "3       1     0\n",
            "4       0     1\n",
            "No Skill: ROC AUC=0.500\n",
            "Logistic: ROC AUC=0.806\n"
          ]
        },
        {
          "output_type": "display_data",
          "data": {
            "text/plain": [
              "<Figure size 432x288 with 1 Axes>"
            ],
            "image/png": "[encoded data removed]"
          },
          "metadata": {
            "needs_background": "light"
          }
        }
      ]
    }
  ]
}